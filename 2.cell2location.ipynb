{
 "cells": [
  {
   "cell_type": "code",
   "execution_count": null,
   "id": "b628e2a4",
   "metadata": {},
   "outputs": [],
   "source": [
    "##reference:https://colab.research.google.com/github/BayraktarLab/cell2location/blob/master/docs/notebooks/cell2location_tutorial.ipynb\n",
    "##Loading packages\n",
    "import sys\n",
    "IN_COLAB = \"google.colab\" in sys.modules\n",
    "if IN_COLAB:\n",
    "    !pip install --quiet scvi-colab\n",
    "    from scvi_colab import install\n",
    "    install()\n",
    "    !pip install --quiet git+https://github.com/BayraktarLab/cell2location\n",
    "        \n",
    "import pandas as pd\n",
    "import scanpy as sc\n",
    "import numpy as np\n",
    "import matplotlib.pyplot as plt \n",
    "import matplotlib as mpl\n",
    "import anndata\n",
    "import cell2location\n",
    "import os\n",
    "import gc\n",
    "from matplotlib import rcParams\n",
    "import seaborn as sns\n",
    "\n",
    "from matplotlib import rcParams\n",
    "rcParams['pdf.fonttype'] = 42\n",
    "\n",
    "# this line forces theano to use the GPU and should go before importing cell2location\n",
    "os.environ[\"THEANO_FLAGS\"] = 'device=cuda,floatX=float32,force_device=True'\n",
    "\n",
    "# silence scanpy that prints a lot of warnings\n",
    "import warnings\n",
    "warnings.filterwarnings('ignore')"
   ]
  },
  {
   "cell_type": "code",
   "execution_count": null,
   "id": "981c4495",
   "metadata": {},
   "outputs": [],
   "source": [
    "#define where we save the results of our analysis:\n",
    "results_folder = '//////'\n",
    "\n",
    "# create paths and names to results folders for reference regression and cell2location models\n",
    "ref_run_name = f'{results_folder}/reference_signatures///////'\n",
    "run_name = f'{results_folder}/cell2location_map/'"
   ]
  },
  {
   "cell_type": "code",
   "execution_count": null,
   "id": "53dbc466",
   "metadata": {},
   "outputs": [],
   "source": [
    "##Loading Visium and scRNA-seq reference data\n",
    "import anndata\n",
    "adata_vis=anndata.read_h5ad(\"//////\")\n",
    "adata_ref=anndata.read_h5ad(\"//////\")"
   ]
  },
  {
   "cell_type": "code",
   "execution_count": null,
   "id": "0da5b39c",
   "metadata": {},
   "outputs": [],
   "source": [
    "adata_ref.obs['celltype'].cat.categories"
   ]
  },
  {
   "cell_type": "code",
   "execution_count": null,
   "id": "d41b5dd5",
   "metadata": {},
   "outputs": [],
   "source": [
    "from cell2location.utils.filtering import filter_genes\n",
    "selected = filter_genes(adata_ref, cell_count_cutoff=5, cell_percentage_cutoff2=0.03, nonz_mean_cutoff=1.12)\n",
    "\n",
    "# filter the object\n",
    "adata_ref = adata_ref[:, selected].copy()"
   ]
  },
  {
   "cell_type": "code",
   "execution_count": null,
   "id": "2462334e",
   "metadata": {},
   "outputs": [],
   "source": [
    "##Estimation of reference cell type signatures (NB regression)\n",
    "\n",
    "# prepare anndata for the regression model\n",
    "cell2location.models.RegressionModel.setup_anndata(adata=adata_ref, \n",
    "                                                    layer='counts',\n",
    "                        # 10X reaction / sample / batch\n",
    "                        batch_key='sample', \n",
    "                        # cell type, covariate used for constructing signatures\n",
    "                        labels_key='celltype', \n",
    "                        # multiplicative technical effects (platform, 3' vs 5', donor effect)\n",
    "                        categorical_covariate_keys=['donor']\n",
    "                       )"
   ]
  },
  {
   "cell_type": "code",
   "execution_count": null,
   "id": "2ed8c6f5",
   "metadata": {},
   "outputs": [],
   "source": [
    "# create the regression model\n",
    "from cell2location.models import RegressionModel\n",
    "mod = RegressionModel(adata_ref) \n",
    "\n",
    "# view anndata_setup as a sanity check\n",
    "mod.view_anndata_setup()"
   ]
  },
  {
   "cell_type": "code",
   "execution_count": null,
   "id": "294c1210",
   "metadata": {
    "scrolled": true
   },
   "outputs": [],
   "source": [
    "##Training model.\n",
    "\n",
    "mod.train(max_epochs=300, use_gpu=True)"
   ]
  },
  {
   "cell_type": "code",
   "execution_count": null,
   "id": "1748a810",
   "metadata": {},
   "outputs": [],
   "source": [
    "mod.plot_history(20)"
   ]
  },
  {
   "cell_type": "code",
   "execution_count": null,
   "id": "d8617a0e",
   "metadata": {},
   "outputs": [],
   "source": [
    "# In this section, we export the estimated cell abundance (summary of the posterior distribution).\n",
    "adata_ref = mod.export_posterior(\n",
    "    adata_ref, \n",
    "    sample_kwargs={'num_samples': 1000, 'batch_size': 2500, 'use_gpu': True},\n",
    "    export_slot='mod',\n",
    "    add_to_varm=[\"means\",\"stds\",\"q05\",\"q95\"]\n",
    ")\n",
    "\n",
    "# Save model\n",
    "mod.save(f\"{ref_run_name}\", overwrite=True)\n",
    "\n",
    "# Save anndata object with results\n",
    "adata_file = f\"{ref_run_name}/sc.h5ad\"\n",
    "adata_ref.write(adata_file)\n",
    "adata_file"
   ]
  },
  {
   "cell_type": "code",
   "execution_count": null,
   "id": "9a41166d",
   "metadata": {},
   "outputs": [],
   "source": [
    "adata_ref.uns['mod']['factor_names']"
   ]
  },
  {
   "cell_type": "code",
   "execution_count": null,
   "id": "e2e67dfb",
   "metadata": {
    "scrolled": false
   },
   "outputs": [],
   "source": [
    "mod.plot_QC()"
   ]
  },
  {
   "cell_type": "code",
   "execution_count": null,
   "id": "9dce11cd",
   "metadata": {
    "scrolled": true
   },
   "outputs": [],
   "source": [
    "##Extracting reference cell types signatures as a pd.DataFrame.\n",
    "\n",
    "# export estimated expression in each cluster\n",
    "if 'means_per_cluster_mu_fg' in adata_ref.varm.keys():\n",
    "    inf_aver = adata_ref.varm['means_per_cluster_mu_fg'][[f'means_per_cluster_mu_fg_{i}' \n",
    "                                    for i in adata_ref.uns['mod']['factor_names']]].copy()\n",
    "else:\n",
    "    inf_aver = adata_ref.var[[f'means_per_cluster_mu_fg_{i}' \n",
    "                                    for i in adata_ref.uns['mod']['factor_names']]].copy()\n",
    "inf_aver.columns = adata_ref.uns['mod']['factor_names']\n",
    "inf_aver.iloc[0:5, 0:8]"
   ]
  },
  {
   "cell_type": "code",
   "execution_count": null,
   "id": "33e9ee61",
   "metadata": {},
   "outputs": [],
   "source": [
    "##Cell2location: spatial mapping\n",
    "\n",
    "# find shared genes and subset both anndata and reference signatures\n",
    "intersect = np.intersect1d(adata_vis.var_names, inf_aver.index)\n",
    "adata_vis = adata_vis[:, intersect].copy()\n",
    "inf_aver = inf_aver.loc[intersect, :].copy()\n",
    "\n",
    "# prepare anndata for cell2location model\n",
    "cell2location.models.Cell2location.setup_anndata(adata=adata_vis, batch_key=\"sample\")"
   ]
  },
  {
   "cell_type": "code",
   "execution_count": null,
   "id": "74fdfc4e",
   "metadata": {
    "scrolled": true
   },
   "outputs": [],
   "source": [
    "# create and train the model\n",
    "mod = cell2location.models.Cell2location(\n",
    "    adata_vis, cell_state_df=inf_aver, \n",
    "    # the expected average cell abundance: tissue-dependent \n",
    "    # hyper-prior which can be estimated from paired histology:\n",
    "    N_cells_per_location=30,\n",
    "    # hyperparameter controlling normalisation of\n",
    "    # within-experiment variation in RNA detection:\n",
    "    detection_alpha=20\n",
    ") \n",
    "mod.view_anndata_setup()"
   ]
  },
  {
   "cell_type": "code",
   "execution_count": null,
   "id": "928b853e",
   "metadata": {
    "scrolled": true
   },
   "outputs": [],
   "source": [
    "mod.train(max_epochs=50000, \n",
    "          # train using full data (batch_size=None)\n",
    "          batch_size=None, \n",
    "          # use all data points in training because \n",
    "          # we need to estimate cell abundance at all locations\n",
    "          train_size=1,\n",
    "          use_gpu=True,\n",
    "         )\n",
    "\n",
    "# plot ELBO loss history during training, removing first 100 epochs from the plot\n",
    "mod.plot_history(1000)\n",
    "plt.legend(labels=['full data training']);"
   ]
  },
  {
   "cell_type": "code",
   "execution_count": null,
   "id": "5bfb8dc4",
   "metadata": {},
   "outputs": [],
   "source": [
    "##Exporting estimated posterior distributions of cell abundance and saving results:\n",
    "# In this section, we export the estimated cell abundance (summary of the posterior distribution).\n",
    "adata_vis = mod.export_posterior(\n",
    "    adata_vis, sample_kwargs={'num_samples': 1000, 'batch_size': mod.adata.n_obs, 'use_gpu': True}\n",
    ")\n",
    "\n",
    "# Save model\n",
    "mod.save(f\"{run_name}\", overwrite=True)\n",
    "\n",
    "# mod = cell2location.models.Cell2location.load(f\"{run_name}\", adata_vis)\n",
    "\n",
    "# Save anndata object with results\n",
    "adata_file = f\"{run_name}/sp.h5ad\"\n",
    "adata_vis.write(adata_file)\n",
    "adata_file"
   ]
  },
  {
   "cell_type": "code",
   "execution_count": null,
   "id": "2b9c780d",
   "metadata": {
    "scrolled": false
   },
   "outputs": [],
   "source": [
    "mod.plot_QC()"
   ]
  },
  {
   "cell_type": "code",
   "execution_count": null,
   "id": "be35bf9d",
   "metadata": {
    "scrolled": true
   },
   "outputs": [],
   "source": [
    "fig = mod.plot_spatial_QC_across_batches()"
   ]
  },
  {
   "cell_type": "code",
   "execution_count": null,
   "id": "c8656ad9",
   "metadata": {},
   "outputs": [],
   "source": [
    "adata_vis.obs.to_csv('//////.csv')"
   ]
  }
 ],
 "metadata": {
  "kernelspec": {
   "display_name": "Environment (cell2loc_env)",
   "language": "python",
   "name": "cell2loc_env"
  },
  "language_info": {
   "codemirror_mode": {
    "name": "ipython",
    "version": 3
   },
   "file_extension": ".py",
   "mimetype": "text/x-python",
   "name": "python",
   "nbconvert_exporter": "python",
   "pygments_lexer": "ipython3",
   "version": "3.9.15"
  }
 },
 "nbformat": 4,
 "nbformat_minor": 5
}
