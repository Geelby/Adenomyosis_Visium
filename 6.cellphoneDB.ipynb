{
 "cells": [
  {
   "cell_type": "code",
   "execution_count": null,
   "id": "aff5fd19",
   "metadata": {},
   "outputs": [],
   "source": [
    "reference: https://github.com/ventolab/CellphoneDB/blob/master/notebooks/T1_Method2.ipynb\n",
    "import pandas as pd\n",
    "import sys\n",
    "import os\n",
    "\n",
    "pd.set_option('display.max_columns', 100)\n",
    "os.chdir('//////')"
   ]
  },
  {
   "cell_type": "code",
   "execution_count": null,
   "id": "d6c59652",
   "metadata": {
    "tags": []
   },
   "outputs": [],
   "source": [
    "cpdb_file_path = '//////cpdb/db/v4.1.0/cellphonedb.zip'\n",
    "meta_file_path = '//////lesion_env/AM1/meta.tsv'\n",
    "counts_file_path = '//////lesion_env/AM1/counts_mtx'\n",
    "out_path = '//////lesion_env/AM1/output/method2'"
   ]
  },
  {
   "cell_type": "code",
   "execution_count": null,
   "id": "7ea82d82",
   "metadata": {
    "tags": []
   },
   "outputs": [],
   "source": [
    "metadata = pd.read_csv(meta_file_path, sep = '\\t')\n",
    "metadata.head(3)"
   ]
  },
  {
   "cell_type": "code",
   "execution_count": null,
   "id": "feb13683",
   "metadata": {
    "tags": []
   },
   "outputs": [],
   "source": [
    "from cellphonedb.src.core.methods import cpdb_statistical_analysis_method\n",
    "\n",
    "deconvoluted, means, pvalues, significant_means = cpdb_statistical_analysis_method.call(\n",
    "    cpdb_file_path = cpdb_file_path,                 # mandatory: CellPhoneDB database zip file.\n",
    "    meta_file_path = meta_file_path,                 # mandatory: tsv file defining barcodes to cell label.\n",
    "    counts_file_path = counts_file_path,             # mandatory: normalized count matrix.\n",
    "    counts_data = 'hgnc_symbol',                     # defines the gene annotation in counts matrix.\n",
    "    #microenvs_file_path = microenvs_file_path,       # optional (default: None): defines cells per microenvironment.\n",
    "    iterations = 1000,                               # denotes the number of shufflings performed in the analysis.\n",
    "    threshold = 0.1,                                 # defines the min % of cells expressing a gene for this to be employed in the analysis.\n",
    "    threads = 4,                                     # number of threads to use in the analysis.\n",
    "    debug_seed = 42,                                 # debug randome seed. To disable >=0.\n",
    "    result_precision = 3,                            # Sets the rounding for the mean values in significan_means.\n",
    "    pvalue = 0.05,                                   # P-value threshold to employ for significance.\n",
    "    subsampling = False,                             # To enable subsampling the data (geometri sketching).\n",
    "    subsampling_log = False,                         # (mandatory) enable subsampling log1p for non log-transformed data inputs.\n",
    "    subsampling_num_pc = 100,                        # Number of componets to subsample via geometric skectching (dafault: 100).\n",
    "    subsampling_num_cells = 1000,                    # Number of cells to subsample (integer) (default: 1/3 of the dataset).\n",
    "    separator = '|',                                 # Sets the string to employ to separate cells in the results dataframes \"cellA|CellB\".\n",
    "    debug = False,                                   # Saves all intermediate tables employed during the analysis in pkl format.\n",
    "    output_path = out_path,                          # Path to save results.\n",
    "    output_suffix = None                             # Replaces the timestamp in the output files by a user defined string in the  (default: None).\n",
    "    )"
   ]
  },
  {
   "cell_type": "code",
   "execution_count": null,
   "id": "8cb8a1f6",
   "metadata": {
    "tags": []
   },
   "outputs": [],
   "source": [
    "cpdb_file_path = '//////cpdb/db/v4.1.0/cellphonedb.zip'\n",
    "meta_file_path = '//////lesion_env/AM2/meta.tsv'\n",
    "counts_file_path = '//////lesion_env/AM2/counts_mtx'\n",
    "out_path = '//////lesion_env/AM2/output/method2'"
   ]
  },
  {
   "cell_type": "code",
   "execution_count": null,
   "id": "f5764e15",
   "metadata": {
    "tags": []
   },
   "outputs": [],
   "source": [
    "metadata = pd.read_csv(meta_file_path, sep = '\\t')\n",
    "metadata.head(3)"
   ]
  },
  {
   "cell_type": "code",
   "execution_count": null,
   "id": "0dbdebd8",
   "metadata": {
    "tags": []
   },
   "outputs": [],
   "source": [
    "from cellphonedb.src.core.methods import cpdb_statistical_analysis_method\n",
    "\n",
    "deconvoluted, means, pvalues, significant_means = cpdb_statistical_analysis_method.call(\n",
    "    cpdb_file_path = cpdb_file_path,                 # mandatory: CellPhoneDB database zip file.\n",
    "    meta_file_path = meta_file_path,                 # mandatory: tsv file defining barcodes to cell label.\n",
    "    counts_file_path = counts_file_path,             # mandatory: normalized count matrix.\n",
    "    counts_data = 'hgnc_symbol',                     # defines the gene annotation in counts matrix.\n",
    "    #microenvs_file_path = microenvs_file_path,       # optional (default: None): defines cells per microenvironment.\n",
    "    iterations = 1000,                               # denotes the number of shufflings performed in the analysis.\n",
    "    threshold = 0.1,                                 # defines the min % of cells expressing a gene for this to be employed in the analysis.\n",
    "    threads = 4,                                     # number of threads to use in the analysis.\n",
    "    debug_seed = 42,                                 # debug randome seed. To disable >=0.\n",
    "    result_precision = 3,                            # Sets the rounding for the mean values in significan_means.\n",
    "    pvalue = 0.05,                                   # P-value threshold to employ for significance.\n",
    "    subsampling = False,                             # To enable subsampling the data (geometri sketching).\n",
    "    subsampling_log = False,                         # (mandatory) enable subsampling log1p for non log-transformed data inputs.\n",
    "    subsampling_num_pc = 100,                        # Number of componets to subsample via geometric skectching (dafault: 100).\n",
    "    subsampling_num_cells = 1000,                    # Number of cells to subsample (integer) (default: 1/3 of the dataset).\n",
    "    separator = '|',                                 # Sets the string to employ to separate cells in the results dataframes \"cellA|CellB\".\n",
    "    debug = False,                                   # Saves all intermediate tables employed during the analysis in pkl format.\n",
    "    output_path = out_path,                          # Path to save results.\n",
    "    output_suffix = None                             # Replaces the timestamp in the output files by a user defined string in the  (default: None).\n",
    "    )"
   ]
  },
  {
   "cell_type": "code",
   "execution_count": null,
   "id": "2b41ee5c",
   "metadata": {
    "tags": []
   },
   "outputs": [],
   "source": [
    "cpdb_file_path = '//////cpdb/db/v4.1.0/cellphonedb.zip'\n",
    "meta_file_path = '//////lesion_env/AM3/meta.tsv'\n",
    "counts_file_path = '//////lesion_env/AM3/counts_mtx'\n",
    "out_path = '//////lesion_env/AM3/output/method2'"
   ]
  },
  {
   "cell_type": "code",
   "execution_count": null,
   "id": "1120f8a0",
   "metadata": {
    "tags": []
   },
   "outputs": [],
   "source": [
    "metadata = pd.read_csv(meta_file_path, sep = '\\t')\n",
    "metadata.head(3)"
   ]
  },
  {
   "cell_type": "code",
   "execution_count": null,
   "id": "68652933",
   "metadata": {
    "tags": []
   },
   "outputs": [],
   "source": [
    "from cellphonedb.src.core.methods import cpdb_statistical_analysis_method\n",
    "\n",
    "deconvoluted, means, pvalues, significant_means = cpdb_statistical_analysis_method.call(\n",
    "    cpdb_file_path = cpdb_file_path,                 # mandatory: CellPhoneDB database zip file.\n",
    "    meta_file_path = meta_file_path,                 # mandatory: tsv file defining barcodes to cell label.\n",
    "    counts_file_path = counts_file_path,             # mandatory: normalized count matrix.\n",
    "    counts_data = 'hgnc_symbol',                     # defines the gene annotation in counts matrix.\n",
    "    #microenvs_file_path = microenvs_file_path,       # optional (default: None): defines cells per microenvironment.\n",
    "    iterations = 1000,                               # denotes the number of shufflings performed in the analysis.\n",
    "    threshold = 0.1,                                 # defines the min % of cells expressing a gene for this to be employed in the analysis.\n",
    "    threads = 4,                                     # number of threads to use in the analysis.\n",
    "    debug_seed = 42,                                 # debug randome seed. To disable >=0.\n",
    "    result_precision = 3,                            # Sets the rounding for the mean values in significan_means.\n",
    "    pvalue = 0.05,                                   # P-value threshold to employ for significance.\n",
    "    subsampling = False,                             # To enable subsampling the data (geometri sketching).\n",
    "    subsampling_log = False,                         # (mandatory) enable subsampling log1p for non log-transformed data inputs.\n",
    "    subsampling_num_pc = 100,                        # Number of componets to subsample via geometric skectching (dafault: 100).\n",
    "    subsampling_num_cells = 1000,                    # Number of cells to subsample (integer) (default: 1/3 of the dataset).\n",
    "    separator = '|',                                 # Sets the string to employ to separate cells in the results dataframes \"cellA|CellB\".\n",
    "    debug = False,                                   # Saves all intermediate tables employed during the analysis in pkl format.\n",
    "    output_path = out_path,                          # Path to save results.\n",
    "    output_suffix = None                             # Replaces the timestamp in the output files by a user defined string in the  (default: None).\n",
    "    )"
   ]
  }
 ],
 "metadata": {
  "kernelspec": {
   "display_name": "Environment (cpdb)",
   "language": "python",
   "name": "cpdb"
  },
  "language_info": {
   "codemirror_mode": {
    "name": "ipython",
    "version": 3
   },
   "file_extension": ".py",
   "mimetype": "text/x-python",
   "name": "python",
   "nbconvert_exporter": "python",
   "pygments_lexer": "ipython3",
   "version": "3.8.16"
  }
 },
 "nbformat": 4,
 "nbformat_minor": 5
}
