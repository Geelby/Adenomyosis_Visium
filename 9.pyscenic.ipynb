{
 "cells": [
  {
   "cell_type": "code",
   "execution_count": null,
   "id": "57a3fa87",
   "metadata": {},
   "outputs": [],
   "source": [
    "##reference: https://pyscenic.readthedocs.io/en/latest\n",
    "# import dependencies\n",
    "import os\n",
    "import numpy as np\n",
    "import pandas as pd\n",
    "import scanpy as sc\n",
    "import loompy as lp\n",
    "from MulticoreTSNE import MulticoreTSNE as TSNE\n",
    "import anndata\n",
    "from scipy import io\n",
    "from scipy.sparse import coo_matrix, csr_matrix\n",
    "\n",
    "import json\n",
    "import base64\n",
    "import zlib\n",
    "from pyscenic.plotting import plot_binarization\n",
    "from pyscenic.export import add_scenic_metadata\n",
    "import seaborn as sns\n",
    "import matplotlib as mpl\n",
    "import matplotlib.pyplot as plt\n",
    "\n",
    "sc.settings.verbosity = 3 # verbosity: errors (0), warnings (1), info (2), hints (3)\n",
    "sc.logging.print_versions()\n",
    "sc.set_figure_params(dpi=300, fontsize=10, dpi_save=600)\n",
    "\n",
    "# Set maximum number of jobs for Scanpy.\n",
    "sc.settings.njobs = 40"
   ]
  },
  {
   "cell_type": "code",
   "execution_count": null,
   "id": "00535bfe",
   "metadata": {},
   "outputs": [],
   "source": [
    "sample_SCENIC = '//////.loom'"
   ]
  },
  {
   "cell_type": "code",
   "execution_count": null,
   "id": "7b3c3a7e",
   "metadata": {},
   "outputs": [],
   "source": [
    "lf = lp.connect(sample_SCENIC, mode='r+', validate=False )\n",
    "auc_mtx = pd.DataFrame(lf.ca.RegulonsAUC, index=lf.ca.CellID)\n",
    "lf.close()\n",
    "auc_mtx"
   ]
  },
  {
   "cell_type": "code",
   "execution_count": null,
   "id": "7d871a9c",
   "metadata": {},
   "outputs": [],
   "source": [
    "from pyscenic.rss import regulon_specificity_scores\n",
    "from pyscenic.plotting import plot_rss\n",
    "from adjustText import adjust_text\n",
    "from pyscenic.binarization import binarize"
   ]
  },
  {
   "cell_type": "code",
   "execution_count": null,
   "id": "be1fe427",
   "metadata": {},
   "outputs": [],
   "source": [
    "sce_test = sc.read_h5ad(\"//////.h5ad\")"
   ]
  },
  {
   "cell_type": "code",
   "execution_count": null,
   "id": "629453a4",
   "metadata": {},
   "outputs": [],
   "source": [
    "#Calculate RSS\n",
    "rss_cellType = regulon_specificity_scores( auc_mtx, sce_test.obs.celltypenewaddsub )\n",
    "rss_cellType"
   ]
  },
  {
   "cell_type": "code",
   "execution_count": null,
   "id": "fd3b3167",
   "metadata": {},
   "outputs": [],
   "source": [
    "sce_test.obs['celltypenewaddsub'].unique()"
   ]
  },
  {
   "cell_type": "code",
   "execution_count": null,
   "id": "971bbdc2",
   "metadata": {},
   "outputs": [],
   "source": [
    "add_scenic_metadata(sce_test, auc_mtx)"
   ]
  },
  {
   "cell_type": "code",
   "execution_count": null,
   "id": "3d8f0bef",
   "metadata": {},
   "outputs": [],
   "source": [
    "#Calculate Z-score\n",
    "rss_cellType_Z = pd.DataFrame( index=rss_cellType.index )\n",
    "for col in list(rss_cellType.columns):\n",
    "    rss_cellType_Z[col] = ( rss_cellType[col] - rss_cellType[col].mean()) / rss_cellType[col].std(ddof=0)\n",
    "    rss_cellType_Z.sort_index(inplace=True)\n",
    "\n",
    "rss_cellType_Z"
   ]
  },
  {
   "cell_type": "code",
   "execution_count": null,
   "id": "a6ee092b",
   "metadata": {},
   "outputs": [],
   "source": [
    "#stromal subpopulations\n",
    "sce_sub = sce_test[sce_test.obs['celltypenewaddsub'].isin(['TXN+ stro','IGFBP3+ stro','CNN1+ stro'])]\n",
    "rss_epi=auc_mtx.T[sce_sub.obs.index]\n",
    "rss_epi = rss_epi.T\n",
    "rss_epi"
   ]
  },
  {
   "cell_type": "code",
   "execution_count": null,
   "id": "9e4a04d2",
   "metadata": {
    "scrolled": true
   },
   "outputs": [],
   "source": [
    "sce_sub.obs['celltypenewaddsub'].unique()"
   ]
  },
  {
   "cell_type": "code",
   "execution_count": null,
   "id": "2564d81e",
   "metadata": {},
   "outputs": [],
   "source": [
    "rss_epi=auc_mtx.T[sce_sub.obs.index]\n",
    "rss_epi = rss_epi.T\n",
    "rss_epi"
   ]
  },
  {
   "cell_type": "code",
   "execution_count": null,
   "id": "f51aed84",
   "metadata": {},
   "outputs": [],
   "source": [
    "#按照分组计算rss\n",
    "rss_group = regulon_specificity_scores( rss_epi, sce_sub.obs['celltypenewaddsub'])\n",
    "rss_group"
   ]
  },
  {
   "cell_type": "code",
   "execution_count": null,
   "id": "cc1b5ca4",
   "metadata": {},
   "outputs": [],
   "source": [
    "rss_group.to_csv(\"//////.csv\",index=True,sep=',')"
   ]
  },
  {
   "cell_type": "code",
   "execution_count": null,
   "id": "e863df71",
   "metadata": {},
   "outputs": [],
   "source": [
    "rss_group"
   ]
  },
  {
   "cell_type": "code",
   "execution_count": null,
   "id": "e0ec337b",
   "metadata": {},
   "outputs": [],
   "source": [
    "#heatmap\n",
    "colors = ['#C6DBEFFF','#6BAED6FF','#08519CFF']\n",
    "tf=['GATA6(+)','TBX1(+)','GATA4(+)','GATA1(+)','POU6F1(+)','GLI1(+)','ELK3(+)','IRF8(+)','OSR2(+)','SP3(+)','EGR2(+)','PAX2(+)','TBX15(+)','ZBTB6(+)','TBX3(+)']\n",
    "sns.set(font_scale=1.2)\n",
    "g = sns.clustermap(rss_group[tf],z_score=1, \n",
    "                   annot=False,  square=False,  cmap=\"vlag\",\n",
    "                   linecolor='black',\n",
    "                   yticklabels=True, xticklabels=True, row_cluster=False,col_cluster=False, \n",
    "                   vmin=-0.7, vmax=0.7, \n",
    "                   row_colors=colors, figsize=(8,4) )\n",
    "g.cax.set_visible(True)\n",
    "g.ax_heatmap.set_ylabel('stromal subcluster')\n",
    "g.ax_heatmap.set_xlabel('')\n",
    "\n",
    "plt.savefig(\"///////SCENIC_stromalsubclusters.pdf\")"
   ]
  },
  {
   "cell_type": "code",
   "execution_count": null,
   "id": "92a71765",
   "metadata": {},
   "outputs": [],
   "source": []
  },
  {
   "cell_type": "code",
   "execution_count": null,
   "id": "fdb8307b",
   "metadata": {},
   "outputs": [],
   "source": [
    "sce_test.obs['celltypenewaddsub'].unique()"
   ]
  },
  {
   "cell_type": "code",
   "execution_count": null,
   "id": "c5f61f6c",
   "metadata": {},
   "outputs": [],
   "source": [
    "#CNN1+ stromal\n",
    "sce_sub = sce_test[sce_test.obs['celltypenewaddsub'].isin(['CNN1+ stro'])]\n",
    "rss_epi=auc_mtx.T[sce_sub.obs.index]\n",
    "rss_epi = rss_epi.T\n",
    "rss_epi"
   ]
  },
  {
   "cell_type": "code",
   "execution_count": null,
   "id": "8bcd9687",
   "metadata": {
    "scrolled": true
   },
   "outputs": [],
   "source": [
    "sce_sub.obs['celltypenewaddsub'].unique()"
   ]
  },
  {
   "cell_type": "code",
   "execution_count": null,
   "id": "dfbfc091",
   "metadata": {},
   "outputs": [],
   "source": [
    "rss_epi=auc_mtx.T[sce_sub.obs.index]\n",
    "rss_epi = rss_epi.T\n",
    "rss_epi"
   ]
  },
  {
   "cell_type": "code",
   "execution_count": null,
   "id": "e357edb5",
   "metadata": {},
   "outputs": [],
   "source": [
    "rss_group = regulon_specificity_scores( rss_epi, sce_sub.obs['slice'])\n",
    "rss_group"
   ]
  },
  {
   "cell_type": "code",
   "execution_count": null,
   "id": "d4081642",
   "metadata": {},
   "outputs": [],
   "source": [
    "rss_group.to_csv(\"///////AM_ST_CNN1stro_diff_slice.csv\",index=True,sep=',')"
   ]
  },
  {
   "cell_type": "code",
   "execution_count": null,
   "id": "4f728bc2",
   "metadata": {},
   "outputs": [],
   "source": [
    "rss_group"
   ]
  },
  {
   "cell_type": "code",
   "execution_count": null,
   "id": "e0945c65",
   "metadata": {},
   "outputs": [],
   "source": [
    "#heatmap\n",
    "colors = ['#92C5DEFF','#FDDBC7FF', '#F4A582FF','#D6604DFF']\n",
    "tf=['TCF21(+)','ELK1(+)','CREB3(+)','GATA6(+)','ZFP3(+)','ZNF112(+)','MYCN(+)','ZNF880(+)','ZNF440(+)','FOXA2(+)','CREB3L4(+)','DLX5(+)','PAX2(+)','CREB3L1(+)']\n",
    "sns.set(font_scale=1.2)\n",
    "g = sns.clustermap(rss_group[tf],z_score=1, \n",
    "                   annot=False,  square=False,  \n",
    "                   linecolor='black',\n",
    "                   yticklabels=True, xticklabels=True, row_cluster=False,col_cluster=False,\n",
    "                   vmin=-0.5, vmax=0.5, \n",
    "                   row_colors=colors, cmap=\"vlag\", figsize=(8,4) )\n",
    "g.cax.set_visible(True)\n",
    "g.ax_heatmap.set_ylabel('CNN1stro')\n",
    "g.ax_heatmap.set_xlabel('')\n",
    "\n",
    "plt.savefig(\"///////SCENIC_CNN1stro_diff_slice.pdf\")"
   ]
  },
  {
   "cell_type": "code",
   "execution_count": null,
   "id": "4dbfb1fd",
   "metadata": {},
   "outputs": [],
   "source": []
  },
  {
   "cell_type": "code",
   "execution_count": null,
   "id": "a34a6e3b",
   "metadata": {
    "scrolled": true
   },
   "outputs": [],
   "source": [
    "sce_test.obs['celltypenewaddsub'].unique()"
   ]
  },
  {
   "cell_type": "code",
   "execution_count": null,
   "id": "dfb81729",
   "metadata": {},
   "outputs": [],
   "source": [
    "#ESR1+SMC\n",
    "sce_sub = sce_test[sce_test.obs['celltypenewaddsub'].isin([ 'ESR1+ SMC'])]\n",
    "rss_epi=auc_mtx.T[sce_sub.obs.index]\n",
    "rss_epi = rss_epi.T\n",
    "rss_epi"
   ]
  },
  {
   "cell_type": "code",
   "execution_count": null,
   "id": "a6ae5265",
   "metadata": {},
   "outputs": [],
   "source": [
    "rss_epi=auc_mtx.T[sce_sub.obs.index]\n",
    "rss_epi = rss_epi.T\n",
    "rss_epi"
   ]
  },
  {
   "cell_type": "code",
   "execution_count": null,
   "id": "e947766f",
   "metadata": {},
   "outputs": [],
   "source": [
    "sce_sub.obs['celltypenewaddsub'].unique()"
   ]
  },
  {
   "cell_type": "code",
   "execution_count": null,
   "id": "522385ca",
   "metadata": {},
   "outputs": [],
   "source": [
    "sce_sub.obs['slice'].unique()"
   ]
  },
  {
   "cell_type": "code",
   "execution_count": null,
   "id": "e2e4771b",
   "metadata": {},
   "outputs": [],
   "source": [
    "rss_group = regulon_specificity_scores( rss_epi, sce_sub.obs['slice'])\n",
    "rss_group"
   ]
  },
  {
   "cell_type": "code",
   "execution_count": null,
   "id": "68133fd8",
   "metadata": {},
   "outputs": [],
   "source": [
    "rss_group.to_csv(\"//////AM_ST_ESR1SMC_diff_slice.csv\",index=True,sep=',')"
   ]
  },
  {
   "cell_type": "code",
   "execution_count": null,
   "id": "066e2a5c",
   "metadata": {
    "scrolled": false
   },
   "outputs": [],
   "source": [
    "#heatmap\n",
    "colors = [ '#92C5DEFF','#FDDBC7FF', '#F4A582FF','#D6604DFF']\n",
    "tf=['TCF21(+)','ELK1(+)','TAGLN2(+)','USF2(+)','MAZ(+)','YBX1(+)','E2F4(+)','HDAC2(+)','ESR1(+)','DMRTA2(+)','SOX17(+)','EGR3(+)','CREB3L4(+)','HMX1(+)','PAX2(+)','ZNF567(+)']\n",
    "sns.set(font_scale=1.2)\n",
    "g = sns.clustermap(rss_group[tf],z_score=1, \n",
    "                   annot=False,  square=False,  \n",
    "                   linecolor='black',\n",
    "                   yticklabels=True, xticklabels=True, row_cluster=False, col_cluster=False,\n",
    "                   vmin=-0.5, vmax=0.5, \n",
    "                   row_colors=colors,cmap=\"vlag\", figsize=(8,4) )\n",
    "g.cax.set_visible(True)\n",
    "g.ax_heatmap.set_ylabel('ESR1SMC')\n",
    "g.ax_heatmap.set_xlabel('')\n",
    "\n",
    "plt.savefig(\"//////SCENICESR1SMC_diffslice.pdf\")"
   ]
  }
 ],
 "metadata": {
  "kernelspec": {
   "display_name": "Environment (pyscenic_env_new)\n",
   "language": "python",
   "name": "pyscenic"
  },
  "language_info": {
   "codemirror_mode": {
    "name": "ipython",
    "version": 3
   },
   "file_extension": ".py",
   "mimetype": "text/x-python",
   "name": "python",
   "nbconvert_exporter": "python",
   "pygments_lexer": "ipython3",
   "version": "3.10.13"
  }
 },
 "nbformat": 4,
 "nbformat_minor": 5
}
