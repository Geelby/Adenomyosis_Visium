{
 "cells": [
  {
   "cell_type": "code",
   "execution_count": null,
   "id": "9a78e252",
   "metadata": {},
   "outputs": [],
   "source": [
   "##reference: https://scvelo.readthedocs.io/en/stable/VelocityBasics.html",
    "import scvelo as scv\n",
    "scv.set_figure_params('scvelo')  # for beautified visualization\n",
    "import pandas as pd"
   ]
  },
  {
   "cell_type": "code",
   "execution_count": null,
   "id": "37f0889b",
   "metadata": {},
   "outputs": [],
   "source": [
    "labels = pd.read_csv('//////.csv', index_col=0)\n",
    "adata = scv.read('//////velocyto_AM_combined.loom', cache=False)"
   ]
  },
  {
   "cell_type": "code",
   "execution_count": null,
   "id": "53d193bf",
   "metadata": {},
   "outputs": [],
   "source": [
    "labels.index  = labels['spot_id']"
   ]
  },
  {
   "cell_type": "code",
   "execution_count": null,
   "id": "611c7dd6",
   "metadata": {},
   "outputs": [],
   "source": [
    "#Add cell type labels as columns in adata.obs\n",
    "labels = labels.reindex(index=adata.obs_names)\n",
    "adata.obs[labels.columns] = labels\n",
    "adata = adata[~adata.obs['celltypenewaddsub'].isna(), :]"
   ]
  },
  {
   "cell_type": "code",
   "execution_count": null,
   "id": "c3d89a5b",
   "metadata": {},
   "outputs": [],
   "source": [
    "import numpy as np\n",
    "adata.uns['celltypenewaddsub_colors'] = np.array(['#08519CFF','#E8D8E8FF','#583070FF','#EACC62FF','#6BAED6FF','#469D76FF', '#FCDACAFF','#DF837DFF','#924099FF','#C91105FF', '#C6DBEFFF'])"
   ]
  },
  {
   "cell_type": "code",
   "execution_count": null,
   "id": "70ced615",
   "metadata": {},
   "outputs": [],
   "source": [
    "s =[ 'TXN+ stro','IGFBP3+ stro','CNN1+ stro','DES+ SMC','ESR1+ SMC']\n",
    "adata = adata[adata.obs['celltypenewaddsub'].isin(s),:]"
   ]
  },
  {
   "cell_type": "code",
   "execution_count": null,
   "id": "42681ed7",
   "metadata": {},
   "outputs": [],
   "source": [
    "adata.obs['slice'] = adata.obs['slice'].astype('category')"
   ]
  },
  {
   "cell_type": "code",
   "execution_count": null,
   "id": "1c109e4c",
   "metadata": {},
   "outputs": [],
   "source": [
    "s = ['AM2','AM3']\n",
    "adata = adata[adata.obs['slice'].isin(s),:]"
   ]
  },
  {
   "cell_type": "code",
   "execution_count": null,
   "id": "db535623",
   "metadata": {},
   "outputs": [],
   "source": [
    "adata.obs['slice'].cat.categories"
   ]
  },
  {
   "cell_type": "code",
   "execution_count": null,
   "id": "14f02d6a",
   "metadata": {
    "scrolled": true
   },
   "outputs": [],
   "source": [
    "adata.obs['celltypenewaddsub'].cat.categories"
   ]
  },
  {
   "cell_type": "code",
   "execution_count": null,
   "id": "b2b43c65",
   "metadata": {},
   "outputs": [],
   "source": [
    "scv.pp.filter_genes(adata, min_shared_counts=20)\n",
    "scv.pp.normalize_per_cell(adata)\n",
    "scv.pp.filter_genes_dispersion(adata, n_top_genes=2000)\n",
    "scv.pp.log1p(adata)"
   ]
  },
  {
   "cell_type": "code",
   "execution_count": null,
   "id": "82b40cb5",
   "metadata": {},
   "outputs": [],
   "source": [
    "scv.pp.filter_and_normalize(adata, min_shared_counts=20, n_top_genes=2000)\n",
    "scv.pp.moments(adata, n_pcs=30, n_neighbors=30)"
   ]
  },
  {
   "cell_type": "code",
   "execution_count": null,
   "id": "ea74b42a",
   "metadata": {},
   "outputs": [],
   "source": [
    "scv.pp.neighbors(adata, n_neighbors=66)\n",
    "scv.tl.velocity(adata,n_jobs=40)\n",
    "scv.tl.velocity_graph(adata,n_jobs=40)"
   ]
  },
  {
   "cell_type": "code",
   "execution_count": null,
   "id": "c9e160cb",
   "metadata": {
    "scrolled": true
   },
   "outputs": [],
   "source": [
    "import matplotlib.pyplot as plt \n",
    "%matplotlib inline\n",
    " \n",
    "scv.pl.velocity_embedding_stream(adata,size=45 ,dpi=1000,color='celltypenewaddsub',legend_fontsize=0,legend_fontoutline=0,smooth=0.66,show=False,\n",
    "                                legend_align_text='xy')\n",
    "plt.savefig(\"//////.jpg\", transparent=True)"
   ]
  },
  {
   "cell_type": "code",
   "execution_count": null,
   "id": "c6701ddf",
   "metadata": {
    "scrolled": true
   },
   "outputs": [],
   "source": [
    "import matplotlib.pyplot as plt \n",
    "%matplotlib inline\n",
    "\n",
    "scv.pl.velocity_embedding(adata, arrow_length=7, arrow_size=8, dpi=1000,color='celltypenewaddsub',show=False)\n",
    "plt.savefig(\"//////.jpg\", transparent=True)"
   ]
  }
 ],
 "metadata": {
  "kernelspec": {
   "display_name": "Environment (scvelo_env)",
   "language": "python",
   "name": "scvelo"
  },
  "language_info": {
   "codemirror_mode": {
    "name": "ipython",
    "version": 3
   },
   "file_extension": ".py",
   "mimetype": "text/x-python",
   "name": "python",
   "nbconvert_exporter": "python",
   "pygments_lexer": "ipython3",
   "version": "3.8.18"
  }
 },
 "nbformat": 4,
 "nbformat_minor": 5
}
